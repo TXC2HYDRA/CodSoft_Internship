{
  "nbformat": 4,
  "nbformat_minor": 0,
  "metadata": {
    "colab": {
      "provenance": []
    },
    "kernelspec": {
      "name": "python3",
      "display_name": "Python 3"
    },
    "language_info": {
      "name": "python"
    }
  },
  "cells": [
    {
      "cell_type": "code",
      "execution_count": 3,
      "metadata": {
        "colab": {
          "base_uri": "https://localhost:8080/"
        },
        "id": "0ysYe2NEmAQs",
        "outputId": "a94a6b80-7eb9-4bf9-eb5c-3675b53f1216"
      },
      "outputs": [
        {
          "output_type": "stream",
          "name": "stdout",
          "text": [
            "   Unnamed: 0 trans_date_trans_time            cc_num  \\\n",
            "0           0   2019-01-01 00:00:18  2703186189652095   \n",
            "1           1   2019-01-01 00:00:44      630423337322   \n",
            "2           2   2019-01-01 00:00:51    38859492057661   \n",
            "3           3   2019-01-01 00:01:16  3534093764340240   \n",
            "4           4   2019-01-01 00:03:06   375534208663984   \n",
            "\n",
            "                             merchant       category     amt      first  \\\n",
            "0          fraud_Rippin, Kub and Mann       misc_net    4.97   Jennifer   \n",
            "1     fraud_Heller, Gutmann and Zieme    grocery_pos  107.23  Stephanie   \n",
            "2                fraud_Lind-Buckridge  entertainment  220.11     Edward   \n",
            "3  fraud_Kutch, Hermiston and Farrell  gas_transport   45.00     Jeremy   \n",
            "4                 fraud_Keeling-Crist       misc_pos   41.96      Tyler   \n",
            "\n",
            "      last gender                        street  ...      lat      long  \\\n",
            "0    Banks      F                561 Perry Cove  ...  36.0788  -81.1781   \n",
            "1     Gill      F  43039 Riley Greens Suite 393  ...  48.8878 -118.2105   \n",
            "2  Sanchez      M      594 White Dale Suite 530  ...  42.1808 -112.2620   \n",
            "3    White      M   9443 Cynthia Court Apt. 038  ...  46.2306 -112.1138   \n",
            "4   Garcia      M              408 Bradley Rest  ...  38.4207  -79.4629   \n",
            "\n",
            "   city_pop                                job         dob  \\\n",
            "0    3495.0          Psychologist, counselling  1988-03-09   \n",
            "1     149.0  Special educational needs teacher  1978-06-21   \n",
            "2    4154.0        Nature conservation officer  1962-01-19   \n",
            "3    1939.0                    Patent attorney  1967-01-12   \n",
            "4      99.0     Dance movement psychotherapist  1986-03-28   \n",
            "\n",
            "                          trans_num     unix_time  merch_lat  merch_long  \\\n",
            "0  0b242abb623afc578575680df30655b9  1.325376e+09  36.011293  -82.048315   \n",
            "1  1f76529f8574734946361c461b024d99  1.325376e+09  49.159047 -118.186462   \n",
            "2  a1a22d70485983eac12b5b88dad1cf95  1.325376e+09  43.150704 -112.154481   \n",
            "3  6b849c168bdad6f867558c3793159a81  1.325376e+09  47.034331 -112.561071   \n",
            "4  a41d7549acf90789359a9aa5346dcb46  1.325376e+09  38.674999  -78.632459   \n",
            "\n",
            "   is_fraud  \n",
            "0       0.0  \n",
            "1       0.0  \n",
            "2       0.0  \n",
            "3       0.0  \n",
            "4       0.0  \n",
            "\n",
            "[5 rows x 23 columns]\n",
            "<class 'pandas.core.frame.DataFrame'>\n",
            "RangeIndex: 7815 entries, 0 to 7814\n",
            "Data columns (total 23 columns):\n",
            " #   Column                 Non-Null Count  Dtype  \n",
            "---  ------                 --------------  -----  \n",
            " 0   Unnamed: 0             7815 non-null   int64  \n",
            " 1   trans_date_trans_time  7815 non-null   object \n",
            " 2   cc_num                 7815 non-null   int64  \n",
            " 3   merchant               7815 non-null   object \n",
            " 4   category               7815 non-null   object \n",
            " 5   amt                    7815 non-null   float64\n",
            " 6   first                  7815 non-null   object \n",
            " 7   last                   7815 non-null   object \n",
            " 8   gender                 7814 non-null   object \n",
            " 9   street                 7814 non-null   object \n",
            " 10  city                   7814 non-null   object \n",
            " 11  state                  7814 non-null   object \n",
            " 12  zip                    7814 non-null   float64\n",
            " 13  lat                    7814 non-null   float64\n",
            " 14  long                   7814 non-null   float64\n",
            " 15  city_pop               7814 non-null   float64\n",
            " 16  job                    7814 non-null   object \n",
            " 17  dob                    7814 non-null   object \n",
            " 18  trans_num              7814 non-null   object \n",
            " 19  unix_time              7814 non-null   float64\n",
            " 20  merch_lat              7814 non-null   float64\n",
            " 21  merch_long             7814 non-null   float64\n",
            " 22  is_fraud               7814 non-null   float64\n",
            "dtypes: float64(9), int64(2), object(12)\n",
            "memory usage: 1.4+ MB\n",
            "None\n",
            "       Unnamed: 0        cc_num          amt           zip          lat  \\\n",
            "count  7815.00000  7.815000e+03  7815.000000   7814.000000  7814.000000   \n",
            "mean   3907.00000  4.078117e+17    68.661363  49479.396340    38.595821   \n",
            "std    2256.14051  1.295068e+18   115.530027  27184.827244     5.198199   \n",
            "min       0.00000  6.041621e+10     1.010000   1257.000000    20.027100   \n",
            "25%    1953.50000  1.800184e+14     9.785000  26041.000000    34.852700   \n",
            "50%    3907.00000  3.518759e+15    48.490000  49259.000000    39.376400   \n",
            "75%    5860.50000  4.653879e+15    82.220000  72476.000000    41.846700   \n",
            "max    7814.00000  4.992346e+18  3178.510000  99783.000000    65.689900   \n",
            "\n",
            "              long      city_pop     unix_time    merch_lat   merch_long  \\\n",
            "count  7814.000000  7.814000e+03  7.814000e+03  7814.000000  7814.000000   \n",
            "mean    -90.688408  8.823451e+04  1.325583e+09    38.599153   -90.685832   \n",
            "std      14.512405  2.944470e+05  1.359720e+05     5.226026    14.532152   \n",
            "min    -165.672300  2.300000e+01  1.325376e+09    19.165823  -166.550779   \n",
            "25%     -97.235100  7.410000e+02  1.325448e+09    34.913072   -97.322865   \n",
            "50%     -87.764400  2.395000e+03  1.325583e+09    39.392224   -87.772889   \n",
            "75%     -80.143075  1.905400e+04  1.325704e+09    41.923981   -80.187209   \n",
            "max     -67.950300  2.906700e+06  1.325815e+09    66.645176   -66.967742   \n",
            "\n",
            "          is_fraud  \n",
            "count  7814.000000  \n",
            "mean      0.005759  \n",
            "std       0.075673  \n",
            "min       0.000000  \n",
            "25%       0.000000  \n",
            "50%       0.000000  \n",
            "75%       0.000000  \n",
            "max       1.000000  \n",
            "Index(['Unnamed: 0', 'trans_date_trans_time', 'cc_num', 'merchant', 'category',\n",
            "       'amt', 'first', 'last', 'gender', 'street', 'city', 'state', 'zip',\n",
            "       'lat', 'long', 'city_pop', 'job', 'dob', 'trans_num', 'unix_time',\n",
            "       'merch_lat', 'merch_long', 'is_fraud'],\n",
            "      dtype='object')\n"
          ]
        }
      ],
      "source": [
        "import pandas as pd\n",
        "\n",
        "# Load the data\n",
        "train_data = pd.read_csv('/content/fraudTrain.csv')\n",
        "test_data = pd.read_csv('/content/fraudTest.csv')\n",
        "\n",
        "# Explore the data\n",
        "print(train_data.head())\n",
        "print(train_data.info())\n",
        "print(train_data.describe())\n",
        "\n",
        "# Print column names to identify categorical features\n",
        "print(train_data.columns)\n"
      ]
    },
    {
      "cell_type": "code",
      "source": [
        "train_data = train_data.drop( columns= ['trans_date_trans_time'])\n",
        "test_data = test_data.drop( columns= ['trans_date_trans_time'])"
      ],
      "metadata": {
        "id": "ox7zkxM1nDsl"
      },
      "execution_count": 4,
      "outputs": []
    },
    {
      "cell_type": "code",
      "source": [
        "train_data = train_data.dropna()"
      ],
      "metadata": {
        "id": "jC9kE70260AL"
      },
      "execution_count": 13,
      "outputs": []
    },
    {
      "cell_type": "code",
      "source": [
        "train_data.isnull().sum()"
      ],
      "metadata": {
        "colab": {
          "base_uri": "https://localhost:8080/",
          "height": 774
        },
        "id": "EtCdwrs66hkX",
        "outputId": "7389681c-1c03-4d75-bd86-e5d71c79f9e9"
      },
      "execution_count": 14,
      "outputs": [
        {
          "output_type": "execute_result",
          "data": {
            "text/plain": [
              "Unnamed: 0    0\n",
              "cc_num        0\n",
              "merchant      0\n",
              "category      0\n",
              "amt           0\n",
              "first         0\n",
              "last          0\n",
              "gender        0\n",
              "street        0\n",
              "city          0\n",
              "state         0\n",
              "zip           0\n",
              "lat           0\n",
              "long          0\n",
              "city_pop      0\n",
              "job           0\n",
              "dob           0\n",
              "trans_num     0\n",
              "unix_time     0\n",
              "merch_lat     0\n",
              "merch_long    0\n",
              "is_fraud      0\n",
              "dtype: int64"
            ],
            "text/html": [
              "<table border=\"1\" class=\"dataframe\">\n",
              "  <thead>\n",
              "    <tr style=\"text-align: right;\">\n",
              "      <th></th>\n",
              "      <th>0</th>\n",
              "    </tr>\n",
              "  </thead>\n",
              "  <tbody>\n",
              "    <tr>\n",
              "      <th>Unnamed: 0</th>\n",
              "      <td>0</td>\n",
              "    </tr>\n",
              "    <tr>\n",
              "      <th>cc_num</th>\n",
              "      <td>0</td>\n",
              "    </tr>\n",
              "    <tr>\n",
              "      <th>merchant</th>\n",
              "      <td>0</td>\n",
              "    </tr>\n",
              "    <tr>\n",
              "      <th>category</th>\n",
              "      <td>0</td>\n",
              "    </tr>\n",
              "    <tr>\n",
              "      <th>amt</th>\n",
              "      <td>0</td>\n",
              "    </tr>\n",
              "    <tr>\n",
              "      <th>first</th>\n",
              "      <td>0</td>\n",
              "    </tr>\n",
              "    <tr>\n",
              "      <th>last</th>\n",
              "      <td>0</td>\n",
              "    </tr>\n",
              "    <tr>\n",
              "      <th>gender</th>\n",
              "      <td>0</td>\n",
              "    </tr>\n",
              "    <tr>\n",
              "      <th>street</th>\n",
              "      <td>0</td>\n",
              "    </tr>\n",
              "    <tr>\n",
              "      <th>city</th>\n",
              "      <td>0</td>\n",
              "    </tr>\n",
              "    <tr>\n",
              "      <th>state</th>\n",
              "      <td>0</td>\n",
              "    </tr>\n",
              "    <tr>\n",
              "      <th>zip</th>\n",
              "      <td>0</td>\n",
              "    </tr>\n",
              "    <tr>\n",
              "      <th>lat</th>\n",
              "      <td>0</td>\n",
              "    </tr>\n",
              "    <tr>\n",
              "      <th>long</th>\n",
              "      <td>0</td>\n",
              "    </tr>\n",
              "    <tr>\n",
              "      <th>city_pop</th>\n",
              "      <td>0</td>\n",
              "    </tr>\n",
              "    <tr>\n",
              "      <th>job</th>\n",
              "      <td>0</td>\n",
              "    </tr>\n",
              "    <tr>\n",
              "      <th>dob</th>\n",
              "      <td>0</td>\n",
              "    </tr>\n",
              "    <tr>\n",
              "      <th>trans_num</th>\n",
              "      <td>0</td>\n",
              "    </tr>\n",
              "    <tr>\n",
              "      <th>unix_time</th>\n",
              "      <td>0</td>\n",
              "    </tr>\n",
              "    <tr>\n",
              "      <th>merch_lat</th>\n",
              "      <td>0</td>\n",
              "    </tr>\n",
              "    <tr>\n",
              "      <th>merch_long</th>\n",
              "      <td>0</td>\n",
              "    </tr>\n",
              "    <tr>\n",
              "      <th>is_fraud</th>\n",
              "      <td>0</td>\n",
              "    </tr>\n",
              "  </tbody>\n",
              "</table><br><label><b>dtype:</b> int64</label>"
            ]
          },
          "metadata": {},
          "execution_count": 14
        }
      ]
    },
    {
      "cell_type": "code",
      "source": [
        "test_data = test_data.dropna()\n",
        "test_data.isnull().sum()"
      ],
      "metadata": {
        "colab": {
          "base_uri": "https://localhost:8080/",
          "height": 774
        },
        "id": "PwjeK3T36wJ2",
        "outputId": "6a28ba5d-4e0a-46e9-8efd-e1f46ba5d76d"
      },
      "execution_count": 17,
      "outputs": [
        {
          "output_type": "execute_result",
          "data": {
            "text/plain": [
              "Unnamed: 0    0\n",
              "cc_num        0\n",
              "merchant      0\n",
              "category      0\n",
              "amt           0\n",
              "first         0\n",
              "last          0\n",
              "gender        0\n",
              "street        0\n",
              "city          0\n",
              "state         0\n",
              "zip           0\n",
              "lat           0\n",
              "long          0\n",
              "city_pop      0\n",
              "job           0\n",
              "dob           0\n",
              "trans_num     0\n",
              "unix_time     0\n",
              "merch_lat     0\n",
              "merch_long    0\n",
              "is_fraud      0\n",
              "dtype: int64"
            ],
            "text/html": [
              "<table border=\"1\" class=\"dataframe\">\n",
              "  <thead>\n",
              "    <tr style=\"text-align: right;\">\n",
              "      <th></th>\n",
              "      <th>0</th>\n",
              "    </tr>\n",
              "  </thead>\n",
              "  <tbody>\n",
              "    <tr>\n",
              "      <th>Unnamed: 0</th>\n",
              "      <td>0</td>\n",
              "    </tr>\n",
              "    <tr>\n",
              "      <th>cc_num</th>\n",
              "      <td>0</td>\n",
              "    </tr>\n",
              "    <tr>\n",
              "      <th>merchant</th>\n",
              "      <td>0</td>\n",
              "    </tr>\n",
              "    <tr>\n",
              "      <th>category</th>\n",
              "      <td>0</td>\n",
              "    </tr>\n",
              "    <tr>\n",
              "      <th>amt</th>\n",
              "      <td>0</td>\n",
              "    </tr>\n",
              "    <tr>\n",
              "      <th>first</th>\n",
              "      <td>0</td>\n",
              "    </tr>\n",
              "    <tr>\n",
              "      <th>last</th>\n",
              "      <td>0</td>\n",
              "    </tr>\n",
              "    <tr>\n",
              "      <th>gender</th>\n",
              "      <td>0</td>\n",
              "    </tr>\n",
              "    <tr>\n",
              "      <th>street</th>\n",
              "      <td>0</td>\n",
              "    </tr>\n",
              "    <tr>\n",
              "      <th>city</th>\n",
              "      <td>0</td>\n",
              "    </tr>\n",
              "    <tr>\n",
              "      <th>state</th>\n",
              "      <td>0</td>\n",
              "    </tr>\n",
              "    <tr>\n",
              "      <th>zip</th>\n",
              "      <td>0</td>\n",
              "    </tr>\n",
              "    <tr>\n",
              "      <th>lat</th>\n",
              "      <td>0</td>\n",
              "    </tr>\n",
              "    <tr>\n",
              "      <th>long</th>\n",
              "      <td>0</td>\n",
              "    </tr>\n",
              "    <tr>\n",
              "      <th>city_pop</th>\n",
              "      <td>0</td>\n",
              "    </tr>\n",
              "    <tr>\n",
              "      <th>job</th>\n",
              "      <td>0</td>\n",
              "    </tr>\n",
              "    <tr>\n",
              "      <th>dob</th>\n",
              "      <td>0</td>\n",
              "    </tr>\n",
              "    <tr>\n",
              "      <th>trans_num</th>\n",
              "      <td>0</td>\n",
              "    </tr>\n",
              "    <tr>\n",
              "      <th>unix_time</th>\n",
              "      <td>0</td>\n",
              "    </tr>\n",
              "    <tr>\n",
              "      <th>merch_lat</th>\n",
              "      <td>0</td>\n",
              "    </tr>\n",
              "    <tr>\n",
              "      <th>merch_long</th>\n",
              "      <td>0</td>\n",
              "    </tr>\n",
              "    <tr>\n",
              "      <th>is_fraud</th>\n",
              "      <td>0</td>\n",
              "    </tr>\n",
              "  </tbody>\n",
              "</table><br><label><b>dtype:</b> int64</label>"
            ]
          },
          "metadata": {},
          "execution_count": 17
        }
      ]
    },
    {
      "cell_type": "code",
      "source": [
        "print(train_data)"
      ],
      "metadata": {
        "colab": {
          "base_uri": "https://localhost:8080/"
        },
        "id": "rWJGW3ko6xJf",
        "outputId": "a04f7c93-d58d-4797-a989-dbe4438eb7ef"
      },
      "execution_count": 15,
      "outputs": [
        {
          "output_type": "stream",
          "name": "stdout",
          "text": [
            "      Unnamed: 0            cc_num                             merchant  \\\n",
            "0              0  2703186189652095           fraud_Rippin, Kub and Mann   \n",
            "1              1      630423337322      fraud_Heller, Gutmann and Zieme   \n",
            "2              2    38859492057661                 fraud_Lind-Buckridge   \n",
            "3              3  3534093764340240   fraud_Kutch, Hermiston and Farrell   \n",
            "4              4   375534208663984                  fraud_Keeling-Crist   \n",
            "...          ...               ...                                  ...   \n",
            "7809        7809  3558881852140592                   fraud_Bernhard Inc   \n",
            "7810        7810  6524376634971418                 fraud_Murray-Smitham   \n",
            "7811        7811  2348245054386329              fraud_Hackett-Lueilwitz   \n",
            "7812        7812  2283743876903625                  fraud_Koepp-Witting   \n",
            "7813        7813   213195754007681  fraud_Robel, Cummerata and Prosacco   \n",
            "\n",
            "           category     amt        first      last gender  \\\n",
            "0          misc_net    4.97     Jennifer     Banks      F   \n",
            "1       grocery_pos  107.23    Stephanie      Gill      F   \n",
            "2     entertainment  220.11       Edward   Sanchez      M   \n",
            "3     gas_transport   45.00       Jeremy     White      M   \n",
            "4          misc_pos   41.96        Tyler    Garcia      M   \n",
            "...             ...     ...          ...       ...    ...   \n",
            "7809  gas_transport   41.28  Christopher      Holt      M   \n",
            "7810    grocery_pos  132.27      Jasmine    Foster      F   \n",
            "7811    grocery_pos   83.51       Justin       Gay      M   \n",
            "7812    grocery_pos   64.04      Shannon  Williams      F   \n",
            "7813  gas_transport   66.86      Zachary     Allen      M   \n",
            "\n",
            "                                street            city  ...      lat  \\\n",
            "0                       561 Perry Cove  Moravian Falls  ...  36.0788   \n",
            "1         43039 Riley Greens Suite 393          Orient  ...  48.8878   \n",
            "2             594 White Dale Suite 530      Malad City  ...  42.1808   \n",
            "3          9443 Cynthia Court Apt. 038         Boulder  ...  46.2306   \n",
            "4                     408 Bradley Rest        Doe Hill  ...  38.4207   \n",
            "...                                ...             ...  ...      ...   \n",
            "7809               05597 Michael Spurs           Parks  ...  35.2563   \n",
            "7810          954 White Alley Apt. 251   Phil Campbell  ...  34.3470   \n",
            "7811           268 Hayes Rue Suite 811     Harborcreek  ...  42.1767   \n",
            "7812  9345 Spencer Junctions Suite 183      Alpharetta  ...  34.0770   \n",
            "7813      69252 Oconnor Alley Apt. 153           Ollie  ...  41.2001   \n",
            "\n",
            "          long  city_pop                                job         dob  \\\n",
            "0     -81.1781    3495.0          Psychologist, counselling  1988-03-09   \n",
            "1    -118.2105     149.0  Special educational needs teacher  1978-06-21   \n",
            "2    -112.2620    4154.0        Nature conservation officer  1962-01-19   \n",
            "3    -112.1138    1939.0                    Patent attorney  1967-01-12   \n",
            "4     -79.4629      99.0     Dance movement psychotherapist  1986-03-28   \n",
            "...        ...       ...                                ...         ...   \n",
            "7809 -111.9500     759.0             Geologist, engineering  1957-03-28   \n",
            "7810  -87.7154    5778.0             Engineer, aeronautical  1952-12-05   \n",
            "7811  -79.9416    2518.0                    Event organiser  1946-02-02   \n",
            "7812  -84.3033  165556.0                     Prison officer  1997-12-27   \n",
            "7813  -92.1354     568.0          Commercial horticulturist  1969-07-24   \n",
            "\n",
            "                             trans_num     unix_time  merch_lat  merch_long  \\\n",
            "0     0b242abb623afc578575680df30655b9  1.325376e+09  36.011293  -82.048315   \n",
            "1     1f76529f8574734946361c461b024d99  1.325376e+09  49.159047 -118.186462   \n",
            "2     a1a22d70485983eac12b5b88dad1cf95  1.325376e+09  43.150704 -112.154481   \n",
            "3     6b849c168bdad6f867558c3793159a81  1.325376e+09  47.034331 -112.561071   \n",
            "4     a41d7549acf90789359a9aa5346dcb46  1.325376e+09  38.674999  -78.632459   \n",
            "...                                ...           ...        ...         ...   \n",
            "7809  ce34f77817f8e6abe543d65aa488bbe0  1.325815e+09  34.964059 -111.203646   \n",
            "7810  e11d567d20b74f412c644122f57b7152  1.325815e+09  34.011938  -88.080823   \n",
            "7811  dc5380f7b501f8fae23741ae9426ea87  1.325815e+09  41.328228  -79.226936   \n",
            "7812  eefe1322ac9155ed949e3c71b35ccc37  1.325815e+09  33.376781  -83.592263   \n",
            "7813  bb4b4d3d673dddf931fc71c12e090b1d  1.325815e+09  40.955293  -92.395676   \n",
            "\n",
            "      is_fraud  \n",
            "0          0.0  \n",
            "1          0.0  \n",
            "2          0.0  \n",
            "3          0.0  \n",
            "4          0.0  \n",
            "...        ...  \n",
            "7809       0.0  \n",
            "7810       0.0  \n",
            "7811       0.0  \n",
            "7812       0.0  \n",
            "7813       0.0  \n",
            "\n",
            "[7814 rows x 22 columns]\n"
          ]
        }
      ]
    },
    {
      "cell_type": "code",
      "source": [
        "print(test_data)"
      ],
      "metadata": {
        "colab": {
          "base_uri": "https://localhost:8080/"
        },
        "id": "jdm262jc7ocK",
        "outputId": "cf89c5fc-e52b-4582-a1cd-394b44274402"
      },
      "execution_count": 18,
      "outputs": [
        {
          "output_type": "stream",
          "name": "stdout",
          "text": [
            "      Unnamed: 0            cc_num                              merchant  \\\n",
            "0              0  2291163933867244                 fraud_Kirlin and Sons   \n",
            "1              1  3573030041201292                  fraud_Sporer-Keebler   \n",
            "2              2  3598215285024754  fraud_Swaniawski, Nitzsche and Welch   \n",
            "3              3  3591919803438423                     fraud_Haley Group   \n",
            "4              4  3526826139003047                 fraud_Johnston-Casper   \n",
            "...          ...               ...                                   ...   \n",
            "7792        7792      577588686219                   fraud_Langworth LLC   \n",
            "7793        7793   377113842678100                fraud_Fritsch and Sons   \n",
            "7794        7794  6538891242532018          fraud_Torp, Muller and Borer   \n",
            "7795        7795     4658117080136                     fraud_Haley Group   \n",
            "7796        7796  2720830304681674                   fraud_Kozey-Kuhlman   \n",
            "\n",
            "            category     amt    first        last gender  \\\n",
            "0      personal_care    2.86     Jeff     Elliott      M   \n",
            "1      personal_care   29.84   Joanne    Williams      F   \n",
            "2     health_fitness   41.28   Ashley       Lopez      F   \n",
            "3           misc_pos   60.05    Brian    Williams      M   \n",
            "4             travel    3.19   Nathan      Massey      M   \n",
            "...              ...     ...      ...         ...    ...   \n",
            "7792   personal_care   31.36    James  Strickland      M   \n",
            "7793  health_fitness  152.25    Billy   Gallagher      M   \n",
            "7794  health_fitness   32.66     Jodi   Rodriguez      F   \n",
            "7795        misc_pos    8.50   Dwayne    Martinez      M   \n",
            "7796   personal_care   20.09  Melissa     Aguilar      F   \n",
            "\n",
            "                              street           city  ...      lat      long  \\\n",
            "0                  351 Darlene Green       Columbia  ...  33.9659  -80.9355   \n",
            "1                   3638 Marsh Union        Altonah  ...  40.3207 -110.4360   \n",
            "2               9333 Valentine Point       Bellmore  ...  40.6729  -73.5365   \n",
            "3        32941 Krystal Mill Apt. 552     Titusville  ...  28.5697  -80.8191   \n",
            "4           5783 Evan Roads Apt. 465       Falmouth  ...  44.2529  -85.0170   \n",
            "...                              ...            ...  ...      ...       ...   \n",
            "7792              25454 Leonard Lake  Spring Church  ...  40.6153  -79.4545   \n",
            "7793                673 Delgado Burg      Greenwich  ...  39.4055  -75.3209   \n",
            "7794         5796 Lee Coves Apt. 286   Walnut Ridge  ...  36.0244  -90.9288   \n",
            "7795      490 Baldwin Alley Apt. 468     Crownpoint  ...  35.7206 -108.0271   \n",
            "7796  21326 Taylor Squares Suite 708    Clarksville  ...  36.5220  -87.3490   \n",
            "\n",
            "      city_pop                                    job         dob  \\\n",
            "0       333497                    Mechanical engineer  1968-03-19   \n",
            "1          302                 Sales professional, IT  1990-01-17   \n",
            "2        34496                      Librarian, public  1970-10-21   \n",
            "3        54767                           Set designer  1987-07-25   \n",
            "4         1126                     Furniture designer  1955-07-06   \n",
            "...        ...                                    ...         ...   \n",
            "7792       972     Public relations account executive  1997-10-23   \n",
            "7793       804                Insurance risk surveyor  1965-03-25   \n",
            "7794      7155  Engineer, control and instrumentation  1977-03-23   \n",
            "7795      5662                          IT consultant  1989-04-08   \n",
            "7796    151785                            Pathologist  1974-03-28   \n",
            "\n",
            "                             trans_num     unix_time  merch_lat  merch_long  \\\n",
            "0     2da90c7d74bd46a0caf3777415b3ebd3  1.371817e+09  33.986391  -81.200714   \n",
            "1     324cc204407e99f51b0d6ca0055005e7  1.371817e+09  39.450498 -109.960431   \n",
            "2     c81755dbbbea9d5c77f094348a7579be  1.371817e+09  40.495810  -74.196111   \n",
            "3     2159175b9efe66dc301f149d3d5abf8c  1.371817e+09  28.812398  -80.883061   \n",
            "4     57ff021bd3f328f8738bb535c302a31b  1.371817e+09  44.959148  -85.884734   \n",
            "...                                ...           ...        ...         ...   \n",
            "7792  857c71fa2688cbe24ece5b32cd464e95  1.371993e+09  40.218211  -78.883741   \n",
            "7793  f7acd865db256104d0ce1b8a1ffbae05  1.371993e+09  39.935513  -75.179333   \n",
            "7794  6070406dc6dce186b67636e216419ead  1.371993e+09  35.702523  -90.870504   \n",
            "7795  f36fdd434c182ce310169da03766f859  1.371993e+09  34.883752 -108.588882   \n",
            "7796  f7a3f70dbbcca903324b9c22d98ffd47  1.371993e+09  36.373711  -87.343330   \n",
            "\n",
            "      is_fraud  \n",
            "0          0.0  \n",
            "1          0.0  \n",
            "2          0.0  \n",
            "3          0.0  \n",
            "4          0.0  \n",
            "...        ...  \n",
            "7792       0.0  \n",
            "7793       0.0  \n",
            "7794       0.0  \n",
            "7795       0.0  \n",
            "7796       0.0  \n",
            "\n",
            "[7797 rows x 22 columns]\n"
          ]
        }
      ]
    },
    {
      "cell_type": "code",
      "source": [
        "# Replace these with actual categorical columns identified from the dataset\n",
        "categorical_features = ['merchant', 'category' , 'first' , 'last' , 'gender' , 'street' , 'city' , 'state' , 'job' , 'dob' , 'trans_num']  # Replace with actual categorical columns\n",
        "numerical_features = [col for col in train_data.columns if col not in categorical_features + ['is_fraud']]\n",
        "# Replace these with actual categorical columns identified from the dataset\n",
        "categorical_features = ['merchant', 'category' , 'first' , 'last' , 'gender' , 'street' , 'city' , 'state' , 'job' , 'dob' , 'trans_num']  # Replace with actual categorical columns\n",
        "numerical_features = [col for col in train_data.columns if col not in categorical_features + ['is_fraud']]\n"
      ],
      "metadata": {
        "id": "CQVdxoV9mQTq"
      },
      "execution_count": 19,
      "outputs": []
    },
    {
      "cell_type": "code",
      "source": [
        "from sklearn.preprocessing import StandardScaler, OneHotEncoder\n",
        "from sklearn.compose import ColumnTransformer\n",
        "from sklearn.impute import SimpleImputer\n",
        "from sklearn.pipeline import Pipeline\n",
        "\n",
        "# Preprocessing for numerical data\n",
        "numerical_transformer = Pipeline(steps=[\n",
        "    ('imputer', SimpleImputer(strategy='mean')),\n",
        "    ('scaler', StandardScaler())\n",
        "])\n",
        "\n",
        "# Preprocessing for categorical data\n",
        "categorical_transformer = Pipeline(steps=[\n",
        "    ('imputer', SimpleImputer(strategy='most_frequent')),\n",
        "    ('onehot', OneHotEncoder(handle_unknown='ignore'))\n",
        "])\n",
        "\n",
        "# Bundle preprocessing for numerical and categorical data\n",
        "preprocessor = ColumnTransformer(\n",
        "    transformers=[\n",
        "        ('num', numerical_transformer, numerical_features),\n",
        "        ('cat', categorical_transformer, categorical_features)\n",
        "    ])\n"
      ],
      "metadata": {
        "id": "fRRFdM89mRJz"
      },
      "execution_count": 20,
      "outputs": []
    },
    {
      "cell_type": "code",
      "source": [
        "# Preprocess and prepare the data\n",
        "X_train = train_data.drop(columns=['is_fraud'])\n",
        "y_train = train_data['is_fraud']\n",
        "X_test = test_data.drop(columns=['is_fraud'])\n",
        "y_test = test_data['is_fraud']\n",
        "\n",
        "# Fit and transform the training data, transform the test data\n",
        "X_train_preprocessed = preprocessor.fit_transform(X_train)\n",
        "X_test_preprocessed = preprocessor.transform(X_test)\n"
      ],
      "metadata": {
        "id": "nKytUzicm2qx"
      },
      "execution_count": 21,
      "outputs": []
    },
    {
      "cell_type": "code",
      "source": [
        "from sklearn.model_selection import train_test_split\n",
        "\n",
        "# Split the training data into training and validation sets\n",
        "X_train_split, X_val_split, y_train_split, y_val_split = train_test_split(X_train_preprocessed, y_train, test_size=0.2, random_state=42)\n"
      ],
      "metadata": {
        "id": "31q5jfhTnfET"
      },
      "execution_count": 22,
      "outputs": []
    },
    {
      "cell_type": "code",
      "source": [
        "from sklearn.linear_model import LogisticRegression\n",
        "from sklearn.tree import DecisionTreeClassifier\n",
        "from sklearn.ensemble import RandomForestClassifier\n",
        "\n",
        "# Initialize models\n",
        "log_reg = LogisticRegression()\n",
        "decision_tree = DecisionTreeClassifier()\n",
        "random_forest = RandomForestClassifier()\n",
        "\n",
        "# Train models\n",
        "log_reg.fit(X_train_split, y_train_split)\n",
        "decision_tree.fit(X_train_split, y_train_split)\n",
        "random_forest.fit(X_train_split, y_train_split)\n"
      ],
      "metadata": {
        "colab": {
          "base_uri": "https://localhost:8080/",
          "height": 75
        },
        "id": "vZ-_uIQHnhiW",
        "outputId": "8704bb84-c1ba-4f16-cba3-54f2d0d60b49"
      },
      "execution_count": 23,
      "outputs": [
        {
          "output_type": "execute_result",
          "data": {
            "text/plain": [
              "RandomForestClassifier()"
            ],
            "text/html": [
              "<style>#sk-container-id-1 {color: black;}#sk-container-id-1 pre{padding: 0;}#sk-container-id-1 div.sk-toggleable {background-color: white;}#sk-container-id-1 label.sk-toggleable__label {cursor: pointer;display: block;width: 100%;margin-bottom: 0;padding: 0.3em;box-sizing: border-box;text-align: center;}#sk-container-id-1 label.sk-toggleable__label-arrow:before {content: \"▸\";float: left;margin-right: 0.25em;color: #696969;}#sk-container-id-1 label.sk-toggleable__label-arrow:hover:before {color: black;}#sk-container-id-1 div.sk-estimator:hover label.sk-toggleable__label-arrow:before {color: black;}#sk-container-id-1 div.sk-toggleable__content {max-height: 0;max-width: 0;overflow: hidden;text-align: left;background-color: #f0f8ff;}#sk-container-id-1 div.sk-toggleable__content pre {margin: 0.2em;color: black;border-radius: 0.25em;background-color: #f0f8ff;}#sk-container-id-1 input.sk-toggleable__control:checked~div.sk-toggleable__content {max-height: 200px;max-width: 100%;overflow: auto;}#sk-container-id-1 input.sk-toggleable__control:checked~label.sk-toggleable__label-arrow:before {content: \"▾\";}#sk-container-id-1 div.sk-estimator input.sk-toggleable__control:checked~label.sk-toggleable__label {background-color: #d4ebff;}#sk-container-id-1 div.sk-label input.sk-toggleable__control:checked~label.sk-toggleable__label {background-color: #d4ebff;}#sk-container-id-1 input.sk-hidden--visually {border: 0;clip: rect(1px 1px 1px 1px);clip: rect(1px, 1px, 1px, 1px);height: 1px;margin: -1px;overflow: hidden;padding: 0;position: absolute;width: 1px;}#sk-container-id-1 div.sk-estimator {font-family: monospace;background-color: #f0f8ff;border: 1px dotted black;border-radius: 0.25em;box-sizing: border-box;margin-bottom: 0.5em;}#sk-container-id-1 div.sk-estimator:hover {background-color: #d4ebff;}#sk-container-id-1 div.sk-parallel-item::after {content: \"\";width: 100%;border-bottom: 1px solid gray;flex-grow: 1;}#sk-container-id-1 div.sk-label:hover label.sk-toggleable__label {background-color: #d4ebff;}#sk-container-id-1 div.sk-serial::before {content: \"\";position: absolute;border-left: 1px solid gray;box-sizing: border-box;top: 0;bottom: 0;left: 50%;z-index: 0;}#sk-container-id-1 div.sk-serial {display: flex;flex-direction: column;align-items: center;background-color: white;padding-right: 0.2em;padding-left: 0.2em;position: relative;}#sk-container-id-1 div.sk-item {position: relative;z-index: 1;}#sk-container-id-1 div.sk-parallel {display: flex;align-items: stretch;justify-content: center;background-color: white;position: relative;}#sk-container-id-1 div.sk-item::before, #sk-container-id-1 div.sk-parallel-item::before {content: \"\";position: absolute;border-left: 1px solid gray;box-sizing: border-box;top: 0;bottom: 0;left: 50%;z-index: -1;}#sk-container-id-1 div.sk-parallel-item {display: flex;flex-direction: column;z-index: 1;position: relative;background-color: white;}#sk-container-id-1 div.sk-parallel-item:first-child::after {align-self: flex-end;width: 50%;}#sk-container-id-1 div.sk-parallel-item:last-child::after {align-self: flex-start;width: 50%;}#sk-container-id-1 div.sk-parallel-item:only-child::after {width: 0;}#sk-container-id-1 div.sk-dashed-wrapped {border: 1px dashed gray;margin: 0 0.4em 0.5em 0.4em;box-sizing: border-box;padding-bottom: 0.4em;background-color: white;}#sk-container-id-1 div.sk-label label {font-family: monospace;font-weight: bold;display: inline-block;line-height: 1.2em;}#sk-container-id-1 div.sk-label-container {text-align: center;}#sk-container-id-1 div.sk-container {/* jupyter's `normalize.less` sets `[hidden] { display: none; }` but bootstrap.min.css set `[hidden] { display: none !important; }` so we also need the `!important` here to be able to override the default hidden behavior on the sphinx rendered scikit-learn.org. See: https://github.com/scikit-learn/scikit-learn/issues/21755 */display: inline-block !important;position: relative;}#sk-container-id-1 div.sk-text-repr-fallback {display: none;}</style><div id=\"sk-container-id-1\" class=\"sk-top-container\"><div class=\"sk-text-repr-fallback\"><pre>RandomForestClassifier()</pre><b>In a Jupyter environment, please rerun this cell to show the HTML representation or trust the notebook. <br />On GitHub, the HTML representation is unable to render, please try loading this page with nbviewer.org.</b></div><div class=\"sk-container\" hidden><div class=\"sk-item\"><div class=\"sk-estimator sk-toggleable\"><input class=\"sk-toggleable__control sk-hidden--visually\" id=\"sk-estimator-id-1\" type=\"checkbox\" checked><label for=\"sk-estimator-id-1\" class=\"sk-toggleable__label sk-toggleable__label-arrow\">RandomForestClassifier</label><div class=\"sk-toggleable__content\"><pre>RandomForestClassifier()</pre></div></div></div></div></div>"
            ]
          },
          "metadata": {},
          "execution_count": 23
        }
      ]
    },
    {
      "cell_type": "code",
      "source": [
        "from sklearn.metrics import accuracy_score, precision_score, recall_score, f1_score\n",
        "\n",
        "# Function to evaluate models\n",
        "def evaluate_model(model, X_val, y_val):\n",
        "    y_pred = model.predict(X_val)\n",
        "    accuracy = accuracy_score(y_val, y_pred)\n",
        "    precision = precision_score(y_val, y_pred)\n",
        "    recall = recall_score(y_val, y_pred)\n",
        "    f1 = f1_score(y_val, y_pred)\n",
        "    return accuracy, precision, recall, f1\n",
        "\n",
        "# Evaluate models\n",
        "log_reg_metrics = evaluate_model(log_reg, X_val_split, y_val_split)\n",
        "decision_tree_metrics = evaluate_model(decision_tree, X_val_split, y_val_split)\n",
        "random_forest_metrics = evaluate_model(random_forest, X_val_split, y_val_split)\n",
        "\n",
        "print(\"Logistic Regression metrics:\", log_reg_metrics)\n",
        "print(\"Decision Tree metrics:\", decision_tree_metrics)\n",
        "print(\"Random Forest metrics:\", random_forest_metrics)\n"
      ],
      "metadata": {
        "id": "fdBt0gy_nkH5",
        "colab": {
          "base_uri": "https://localhost:8080/"
        },
        "outputId": "c5216061-1708-4a30-a347-adc7225e9580"
      },
      "execution_count": 24,
      "outputs": [
        {
          "output_type": "stream",
          "name": "stdout",
          "text": [
            "Logistic Regression metrics: (0.9974408189379399, 0.9090909090909091, 0.7692307692307693, 0.8333333333333333)\n",
            "Decision Tree metrics: (0.9987204094689699, 0.9230769230769231, 0.9230769230769231, 0.9230769230769231)\n",
            "Random Forest metrics: (0.999360204734485, 1.0, 0.9230769230769231, 0.9600000000000001)\n"
          ]
        }
      ]
    },
    {
      "cell_type": "code",
      "source": [
        "# Assuming Random Forest performs the best\n",
        "best_model = random_forest\n"
      ],
      "metadata": {
        "id": "JZyLBJWynrKB"
      },
      "execution_count": 25,
      "outputs": []
    },
    {
      "cell_type": "code",
      "source": [
        "# Predict on test data\n",
        "y_test_pred = best_model.predict(X_test_preprocessed)\n",
        "\n",
        "# Evaluate on test data\n",
        "test_accuracy, test_precision, test_recall, test_f1 = evaluate_model(best_model, X_test_preprocessed, y_test)\n",
        "print(\"Test set metrics:\", test_accuracy, test_precision, test_recall, test_f1)\n"
      ],
      "metadata": {
        "id": "L_c2g-Sznsec",
        "colab": {
          "base_uri": "https://localhost:8080/"
        },
        "outputId": "7fa9a443-9785-4f78-cab3-7138b871fa6f"
      },
      "execution_count": 26,
      "outputs": [
        {
          "output_type": "stream",
          "name": "stdout",
          "text": [
            "Test set metrics: 0.9966653841220983 0.0 0.0 0.0\n"
          ]
        }
      ]
    }
  ]
}